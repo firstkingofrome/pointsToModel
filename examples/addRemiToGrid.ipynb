{
 "cells": [
  {
   "cell_type": "markdown",
   "metadata": {},
   "source": [
    "### Add points where there is material property information for later use with sklearn"
   ]
  },
  {
   "cell_type": "code",
   "execution_count": 1,
   "metadata": {},
   "outputs": [],
   "source": [
    "import numpy as np\n",
    "import points2Rfile\n",
    "from points2Rfile import grid\n",
    "import dask.array as da #so I can easily save to hdf5, do not actually do any parallel computing in this module\n",
    "import utm #to convert input data to utm\n",
    "import os\n",
    "import numpy as np\n",
    "import json"
   ]
  },
  {
   "cell_type": "code",
   "execution_count": 2,
   "metadata": {},
   "outputs": [],
   "source": [
    "jsonFile = \"renoRemi.json\"\n",
    "inputGridFile = \"renoRemi100m.hdf5\"\n",
    "#nevada is in UTM zone 11 N\n",
    "#define REMI unit\n",
    "REMI_UNIT=100\n",
    "UTMZONEN=11\n",
    "UTMZONELETTER='N'\n",
    "VPMIN = 1500 #I do this since the reno basin is generally pretty wet therefor vp should never drop below this"
   ]
  },
  {
   "cell_type": "code",
   "execution_count": 4,
   "metadata": {},
   "outputs": [],
   "source": [
    "#load the json data and open the grid file\n",
    "with open(jsonFile) as file: \n",
    "    REMIData = json.loads(file.read())"
   ]
  },
  {
   "cell_type": "markdown",
   "metadata": {},
   "source": [
    "### Velocity model\n",
    "\"\"\"\n",
    "@article{olsen2003estimation,\n",
    "  title={Estimation of Q for long-period (> 2 sec) waves in the Los Angeles basin},\n",
    "  author={Olsen, KB and Day, SM and Bradley, CR},\n",
    "  journal={Bulletin of the Seismological Society of America},\n",
    "  volume={93},\n",
    "  number={2},\n",
    "  pages={627--638},\n",
    "  year={2003},\n",
    "  publisher={Seismological Society of America}\n",
    "}\n",
    "\"\"\"\n",
    "\n",
    "\n",
    "According to DAY/OLSEN $\\frac{Q_s}{V_s} = 0.02$ when $V_s$ < 1-2 Km/s  and  $\\frac{Q_s}{V_s} = 0.1$ when $V_s > 1.5 \\frac{km}{s}$ which is substantially lower than most labratory soil studies, so you may need to tweak this later.\n",
    "\n",
    "Also Suggests that $\\frac{Q_p}{Q_s} = 1.5$\n",
    "\n",
    "\n"
   ]
  },
  {
   "cell_type": "code",
   "execution_count": 5,
   "metadata": {},
   "outputs": [],
   "source": [
    "#get vp,p,qp,qs, using day brocher (this ultimately looked like an better study than day olson)\n",
    "def getMprops(vs,remi=\"NO station name defined\"):\n",
    "    vs = vs/(1.0E3) #get q in Km/s\n",
    "    if(vs>=0.3):\n",
    "        qs = -16+104.3*vs-25.225*vs**2+8.2184*vs**3 \n",
    "        qp = 2*qs\n",
    "    else:\n",
    "        print(\"VS was below 300 m/s for station ,\" + remi +\" so using constant value of Qs=13, as suggested by Brocher paper\")\n",
    "        qs=13\n",
    "        qp=2*qs\n",
    "        \n",
    "    #now compute vp from vs, note that I think this relation ship may artificially inflate these values, so may \n",
    "    #need tweaking\n",
    "    vp = 1.16*vs+1.36\n",
    "    if(vp<(VPMIN/1.0E3)):\n",
    "        vp=(VPMIN/1.0E3)\n",
    "        print(\"setting vp to vpmin val of \" + str(VPMIN) + \"for station\" + remi)\n",
    "    #now compute density--Note I took this from pySW4 since I couldnt actually find this in the brocher paper\n",
    "    p = (1.6612 * vp\n",
    "       - 0.4721 * vp**2\n",
    "       + 0.0671 * vp**3\n",
    "       - 0.0043 * vp**4\n",
    "       + 0.000106 * vp**5)\n",
    "    return 1.0E3*vp,1.0E3*vs,1.0E3*p,qp,qs"
   ]
  },
  {
   "cell_type": "code",
   "execution_count": 7,
   "metadata": {},
   "outputs": [],
   "source": [
    "#load the grid file\n",
    "gridFile = grid.grid(fname=inputGridFile)\n",
    "DX,DY = gridFile.mdata[\"DX\"],gridFile.mdata[\"DY\"]\n",
    "NX,NY = gridFile.mdata[\"NX\"],gridFile.mdata[\"NY\"]\n",
    "#load the DEM from the rFile so that I can convert depth to elevation for all of the points\n",
    "topo = gridFile.topo.compute()"
   ]
  },
  {
   "cell_type": "code",
   "execution_count": 8,
   "metadata": {},
   "outputs": [],
   "source": [
    "def getNearestTopoPoint(x,y,topo=topo,dx=DX,dy=DY):\n",
    "    return topo[int(x/dx),int(y/dy)]\n"
   ]
  },
  {
   "cell_type": "code",
   "execution_count": 9,
   "metadata": {},
   "outputs": [
    {
     "name": "stdout",
     "output_type": "stream",
     "text": [
      "VS was below 300 m/s for station ,SF02 so using constant value of Qs=13, as suggested by Brocher paper\n",
      "VS was below 300 m/s for station ,SF02 so using constant value of Qs=13, as suggested by Brocher paper\n",
      "VS was below 300 m/s for station ,SPHI-RS so using constant value of Qs=13, as suggested by Brocher paper\n",
      "setting vp to vpmin val of 1500for stationSPHI-RS\n",
      "VS was below 300 m/s for station ,SPHI-RS so using constant value of Qs=13, as suggested by Brocher paper\n",
      "setting vp to vpmin val of 1500for stationSPHI-RS\n",
      "VS was below 300 m/s for station ,SPHI-RS so using constant value of Qs=13, as suggested by Brocher paper\n",
      "VS was below 300 m/s for station ,SPHI-RS so using constant value of Qs=13, as suggested by Brocher paper\n",
      "station CCAD-PO-RS outside of model domain, ignoring!\n",
      "station EagleValleyMiddleSchool-s2-remi outside of model domain, ignoring!\n",
      "station MindenGardnerville-s4-remi outside of model domain, ignoring!\n",
      "VS was below 300 m/s for station ,WGLF-RS so using constant value of Qs=13, as suggested by Brocher paper\n",
      "VS was below 300 m/s for station ,WGLF-RS so using constant value of Qs=13, as suggested by Brocher paper\n",
      "VS was below 300 m/s for station ,WGLF-RS so using constant value of Qs=13, as suggested by Brocher paper\n",
      "VS was below 300 m/s for station ,WGLF-RS so using constant value of Qs=13, as suggested by Brocher paper\n",
      "VS was below 300 m/s for station ,NOAA-RS so using constant value of Qs=13, as suggested by Brocher paper\n",
      "VS was below 300 m/s for station ,NOAA-RS so using constant value of Qs=13, as suggested by Brocher paper\n",
      "station CF03-RS outside of model domain, ignoring!\n",
      "VS was below 300 m/s for station ,NOAA so using constant value of Qs=13, as suggested by Brocher paper\n",
      "VS was below 300 m/s for station ,NOAA so using constant value of Qs=13, as suggested by Brocher paper\n",
      "station CF02-RS outside of model domain, ignoring!\n",
      "VS was below 300 m/s for station ,RENO so using constant value of Qs=13, as suggested by Brocher paper\n",
      "VS was below 300 m/s for station ,RENO so using constant value of Qs=13, as suggested by Brocher paper\n",
      "station EGLV-RS outside of model domain, ignoring!\n",
      "VS was below 300 m/s for station ,HVGC so using constant value of Qs=13, as suggested by Brocher paper\n",
      "VS was below 300 m/s for station ,HVGC so using constant value of Qs=13, as suggested by Brocher paper\n",
      "VS was below 300 m/s for station ,1004-087 so using constant value of Qs=13, as suggested by Brocher paper\n",
      "VS was below 300 m/s for station ,1004-087 so using constant value of Qs=13, as suggested by Brocher paper\n",
      "station ltao1-10-win-teg outside of model domain, ignoring!\n",
      "station BFC-RS outside of model domain, ignoring!\n",
      "VS was below 300 m/s for station ,SMRN so using constant value of Qs=13, as suggested by Brocher paper\n",
      "VS was below 300 m/s for station ,SMRN so using constant value of Qs=13, as suggested by Brocher paper\n",
      "station SSFS outside of model domain, ignoring!\n",
      "station HVGC-RS outside of model domain, ignoring!\n",
      "VS was below 300 m/s for station ,LENZ-RS so using constant value of Qs=13, as suggested by Brocher paper\n",
      "VS was below 300 m/s for station ,LENZ-RS so using constant value of Qs=13, as suggested by Brocher paper\n",
      "VS was below 300 m/s for station ,SKYF-RS so using constant value of Qs=13, as suggested by Brocher paper\n",
      "VS was below 300 m/s for station ,SKYF-RS so using constant value of Qs=13, as suggested by Brocher paper\n",
      "VS was below 300 m/s for station ,LOVE so using constant value of Qs=13, as suggested by Brocher paper\n",
      "VS was below 300 m/s for station ,LOVE so using constant value of Qs=13, as suggested by Brocher paper\n",
      "station CF01-RS outside of model domain, ignoring!\n",
      "station ltap1-10 outside of model domain, ignoring!\n",
      "station CarsonHighSchool-s4-remi outside of model domain, ignoring!\n",
      "VS was below 300 m/s for station ,EVAN so using constant value of Qs=13, as suggested by Brocher paper\n",
      "VS was below 300 m/s for station ,EVAN so using constant value of Qs=13, as suggested by Brocher paper\n",
      "VS was below 300 m/s for station ,PICO-RS so using constant value of Qs=13, as suggested by Brocher paper\n",
      "VS was below 300 m/s for station ,PICO-RS so using constant value of Qs=13, as suggested by Brocher paper\n",
      "station CCAD-RS outside of model domain, ignoring!\n",
      "station MND1-RS outside of model domain, ignoring!\n",
      "VS was below 300 m/s for station ,SWTP-RS so using constant value of Qs=13, as suggested by Brocher paper\n",
      "VS was below 300 m/s for station ,SWTP-RS so using constant value of Qs=13, as suggested by Brocher paper\n",
      "VS was below 300 m/s for station ,SWTP-RS so using constant value of Qs=13, as suggested by Brocher paper\n",
      "VS was below 300 m/s for station ,SWTP-RS so using constant value of Qs=13, as suggested by Brocher paper\n",
      "VS was below 300 m/s for station ,UNRN so using constant value of Qs=13, as suggested by Brocher paper\n",
      "VS was below 300 m/s for station ,UNRN so using constant value of Qs=13, as suggested by Brocher paper\n",
      "VS was below 300 m/s for station ,WYRD so using constant value of Qs=13, as suggested by Brocher paper\n",
      "VS was below 300 m/s for station ,WYRD so using constant value of Qs=13, as suggested by Brocher paper\n",
      "VS was below 300 m/s for station ,NMHS-RS so using constant value of Qs=13, as suggested by Brocher paper\n",
      "VS was below 300 m/s for station ,NMHS-RS so using constant value of Qs=13, as suggested by Brocher paper\n",
      "VS was below 300 m/s for station ,NMHS-RS so using constant value of Qs=13, as suggested by Brocher paper\n",
      "VS was below 300 m/s for station ,NMHS-RS so using constant value of Qs=13, as suggested by Brocher paper\n",
      "station ltsp1-12 outside of model domain, ignoring!\n",
      "VS was below 300 m/s for station ,SMRN-RS so using constant value of Qs=13, as suggested by Brocher paper\n",
      "VS was below 300 m/s for station ,SMRN-RS so using constant value of Qs=13, as suggested by Brocher paper\n"
     ]
    }
   ],
   "source": [
    "#process each station\n",
    "station={}\n",
    "xDomain = gridFile.mdata[\"NX\"]*gridFile.mdata[\"DX\"]\n",
    "yDomain = gridFile.mdata[\"NY\"]*gridFile.mdata[\"DY\"]\n",
    "coordinates = utm.from_latlon(latitude=gridFile.mdata[\"LAT0\"],longitude=gridFile.mdata[\"LON0\"],force_zone_letter=UTMZONELETTER,force_zone_number=UTMZONEN)\n",
    "x,y = 0,0\n",
    "x0,y0 = coordinates[0] ,coordinates[1]\n",
    "test = '1003-354'\n",
    "for remi in REMIData:\n",
    "    #convert station locations to UTM\n",
    "    try:\n",
    "        startPoint = REMIData[remi]['Lat/long'].split('/')\n",
    "        startPoint[0],startPoint[1] =np.float32(startPoint[0]),np.float32(startPoint[1]) \n",
    "        coordinates = utm.from_latlon(latitude=startPoint[0],longitude=startPoint[1],force_zone_letter=UTMZONELETTER,force_zone_number=UTMZONEN)\n",
    "        startPoint[0],startPoint[1] = coordinates[0],coordinates[1]\n",
    "        siteName = REMIData[remi]['Site name']\n",
    "    except KeyError:\n",
    "        #print the file name \n",
    "        print(remi)\n",
    "        break\n",
    "    except ValueError:\n",
    "        print(remi)\n",
    "        break\n",
    "    #discard the station if it is outside of the  model domain\n",
    "    if((startPoint[0]-x0)<0 or (startPoint[1]-y0)<0 or (startPoint[0]-x0)>NX*DX or (startPoint[1]-y0)>NY*DY):\n",
    "        #dont do anything this point is out of the model domain and I want to drop this station\n",
    "        print(\"station \" + remi + \" outside of model domain, ignoring!\")\n",
    "    else:\n",
    "        #fix input points to the datum\n",
    "        x,y = startPoint[0]-x0,startPoint[1]-y0\n",
    "        station[remi]={}\n",
    "        station[remi][\"name\"] = siteName\n",
    "        #station[remi][\"x\"] = startPoint[0]\n",
    "        #station[remi][\"y\"] = startPoint[1]\n",
    "        #compute the elevation using the depth and the DEM \n",
    "        z = getNearestTopoPoint(x,y)\n",
    "        station[remi][\"data\"] = []\n",
    "        #use the vp,vs relationship to compute vp,p,qp,qs from REMI data\n",
    "        for i in REMIData[remi][\"data\"]:\n",
    "            #the reason that this throws back multiple times is because there are multiple depth points for each station\n",
    "            vp,vs,p,qp,qs = getMprops(i[1],remi)\n",
    "            #use dem to get elevation from depth\n",
    "            z = z-i[0]\n",
    "            #save this data points \n",
    "            #format: x,y,z,vp,vs,p,qp,qs\n",
    "            station[remi][\"data\"].append([x,y,z,vp,vs,p,qp,qs])\n",
    "    pass"
   ]
  },
  {
   "cell_type": "markdown",
   "metadata": {},
   "source": [
    "### Insert all of this data as points into the grid file points section\n"
   ]
  },
  {
   "cell_type": "code",
   "execution_count": 10,
   "metadata": {},
   "outputs": [
    {
     "name": "stdout",
     "output_type": "stream",
     "text": [
      "warning! this doesnt discard duplicate points right now!\n",
      "\n"
     ]
    }
   ],
   "source": [
    "print(\"warning! this doesnt discard duplicate points right now!\\n\")\n",
    "for points in station:\n",
    "    data = np.array(station[points][\"data\"])\n",
    "    x,y,z,vp,vs,p,qp,qs = data[:,0],data[:,1],data[:,2],data[:,3],data[:,4],data[:,5],data[:,6],data[:,7]\n",
    "    #add the default remi unit to this data set\n",
    "    units = np.zeros(x.shape)\n",
    "    units[:] = REMI_UNIT\n",
    "    surfaces = points2Rfile.grid.points(gridFile,points,json.dumps(station[points]),\"p\",x,y,z,units\n",
    "                                   ,vp,vs,p,qp,qs,overwrite=True)\n"
   ]
  },
  {
   "cell_type": "code",
   "execution_count": 11,
   "metadata": {},
   "outputs": [],
   "source": [
    "#verify that the hdf5 file is closed correctly\n",
    "gridFile.data.close()"
   ]
  },
  {
   "cell_type": "code",
   "execution_count": null,
   "metadata": {},
   "outputs": [],
   "source": []
  }
 ],
 "metadata": {
  "kernelspec": {
   "display_name": "Python 3 (ipykernel)",
   "language": "python",
   "name": "python3"
  },
  "language_info": {
   "codemirror_mode": {
    "name": "ipython",
    "version": 3
   },
   "file_extension": ".py",
   "mimetype": "text/x-python",
   "name": "python",
   "nbconvert_exporter": "python",
   "pygments_lexer": "ipython3",
   "version": "3.8.13"
  }
 },
 "nbformat": 4,
 "nbformat_minor": 4
}
